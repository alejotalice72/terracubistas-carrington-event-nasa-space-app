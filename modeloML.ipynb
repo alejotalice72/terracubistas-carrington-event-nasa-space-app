{
 "cells": [
  {
   "cell_type": "markdown",
   "metadata": {},
   "source": [
    "MODELO DE MACHINE LEARNING"
   ]
  },
  {
   "cell_type": "markdown",
   "metadata": {},
   "source": []
  },
  {
   "cell_type": "code",
   "execution_count": 499,
   "metadata": {},
   "outputs": [],
   "source": [
    "import numpy as np\n",
    "import pandas as pd\n",
    "pd.options.display.max_columns = None #Configuro pandas para que muetre todas las columnas`\n",
    "\n",
    "import time\n",
    "import random\n",
    "\n",
    "from matplotlib import pyplot as plt\n",
    "import seaborn as sns\n",
    "import pandas_profiling\n",
    "from matplotlib.ticker import FormatStrFormatter\n",
    "import ast\n",
    "import plotly.express as px\n",
    "import warnings\n",
    "warnings.filterwarnings('ignore')\n",
    "\n",
    "from matplotlib import style\n",
    "style.use('dark_background')\n",
    "\n",
    "\n",
    "import json #se utilizara para convertir los campos tipo json"
   ]
  },
  {
   "cell_type": "markdown",
   "metadata": {},
   "source": [
    "# ADQUISICIÓN DE DATOS\n",
    "\n",
    "Trabajaremos con dos dataframes.\n",
    "\n",
    "    -df_solar_wind contiene en cada fila una toma de mediciones de los satélites. Se toma una medición por minuto.\n",
    "\n",
    "    -df_dst contiene en cada fila una medición de la magnitud dst (tomadas en observatorios en la Tierra). Se toman mediciones cada una hora.\n",
    "\n",
    "Cada 60 mediciones de satélite, hay una de dst.\n",
    "\n",
    "Las mediciones dst son una medida de cuánto se debilita la... de la tierra.\n",
    "\n",
    "El objetivo es poder entrenar un modelo para poder predecir el dst previo al arrivo de las ondas solares a la Tierra."
   ]
  },
  {
   "cell_type": "code",
   "execution_count": 589,
   "metadata": {},
   "outputs": [],
   "source": [
    "df_solar_wind = pd.read_csv('Dataset/solar_wind.csv')\n",
    "df_dst = pd.read_csv('Dataset/labels.csv')"
   ]
  },
  {
   "cell_type": "code",
   "execution_count": 501,
   "metadata": {},
   "outputs": [
    {
     "data": {
      "text/html": [
       "<div>\n",
       "<style scoped>\n",
       "    .dataframe tbody tr th:only-of-type {\n",
       "        vertical-align: middle;\n",
       "    }\n",
       "\n",
       "    .dataframe tbody tr th {\n",
       "        vertical-align: top;\n",
       "    }\n",
       "\n",
       "    .dataframe thead th {\n",
       "        text-align: right;\n",
       "    }\n",
       "</style>\n",
       "<table border=\"1\" class=\"dataframe\">\n",
       "  <thead>\n",
       "    <tr style=\"text-align: right;\">\n",
       "      <th></th>\n",
       "      <th>period</th>\n",
       "      <th>timedelta</th>\n",
       "      <th>bx_gse</th>\n",
       "      <th>by_gse</th>\n",
       "      <th>bz_gse</th>\n",
       "      <th>theta_gse</th>\n",
       "      <th>phi_gse</th>\n",
       "      <th>bx_gsm</th>\n",
       "      <th>by_gsm</th>\n",
       "      <th>bz_gsm</th>\n",
       "      <th>theta_gsm</th>\n",
       "      <th>phi_gsm</th>\n",
       "      <th>bt</th>\n",
       "      <th>density</th>\n",
       "      <th>speed</th>\n",
       "      <th>temperature</th>\n",
       "      <th>source</th>\n",
       "    </tr>\n",
       "  </thead>\n",
       "  <tbody>\n",
       "    <tr>\n",
       "      <th>0</th>\n",
       "      <td>train_a</td>\n",
       "      <td>0 days 00:00:00</td>\n",
       "      <td>-5.55</td>\n",
       "      <td>3.00</td>\n",
       "      <td>1.25</td>\n",
       "      <td>11.09</td>\n",
       "      <td>153.37</td>\n",
       "      <td>-5.55</td>\n",
       "      <td>3.00</td>\n",
       "      <td>1.25</td>\n",
       "      <td>11.09</td>\n",
       "      <td>153.37</td>\n",
       "      <td>6.80</td>\n",
       "      <td>1.53</td>\n",
       "      <td>383.92</td>\n",
       "      <td>110237.0</td>\n",
       "      <td>ac</td>\n",
       "    </tr>\n",
       "    <tr>\n",
       "      <th>1</th>\n",
       "      <td>train_a</td>\n",
       "      <td>0 days 00:01:00</td>\n",
       "      <td>-5.58</td>\n",
       "      <td>3.16</td>\n",
       "      <td>1.17</td>\n",
       "      <td>10.10</td>\n",
       "      <td>151.91</td>\n",
       "      <td>-5.58</td>\n",
       "      <td>3.16</td>\n",
       "      <td>1.17</td>\n",
       "      <td>10.10</td>\n",
       "      <td>151.91</td>\n",
       "      <td>6.83</td>\n",
       "      <td>1.69</td>\n",
       "      <td>381.79</td>\n",
       "      <td>123825.0</td>\n",
       "      <td>ac</td>\n",
       "    </tr>\n",
       "    <tr>\n",
       "      <th>2</th>\n",
       "      <td>train_a</td>\n",
       "      <td>0 days 00:02:00</td>\n",
       "      <td>-5.15</td>\n",
       "      <td>3.66</td>\n",
       "      <td>0.85</td>\n",
       "      <td>7.87</td>\n",
       "      <td>146.04</td>\n",
       "      <td>-5.15</td>\n",
       "      <td>3.66</td>\n",
       "      <td>0.85</td>\n",
       "      <td>7.87</td>\n",
       "      <td>146.04</td>\n",
       "      <td>6.77</td>\n",
       "      <td>1.97</td>\n",
       "      <td>389.11</td>\n",
       "      <td>82548.0</td>\n",
       "      <td>ac</td>\n",
       "    </tr>\n",
       "    <tr>\n",
       "      <th>3</th>\n",
       "      <td>train_a</td>\n",
       "      <td>0 days 00:03:00</td>\n",
       "      <td>-5.20</td>\n",
       "      <td>3.68</td>\n",
       "      <td>0.68</td>\n",
       "      <td>6.17</td>\n",
       "      <td>146.17</td>\n",
       "      <td>-5.20</td>\n",
       "      <td>3.68</td>\n",
       "      <td>0.68</td>\n",
       "      <td>6.17</td>\n",
       "      <td>146.17</td>\n",
       "      <td>6.74</td>\n",
       "      <td>1.97</td>\n",
       "      <td>389.11</td>\n",
       "      <td>82548.0</td>\n",
       "      <td>ac</td>\n",
       "    </tr>\n",
       "    <tr>\n",
       "      <th>4</th>\n",
       "      <td>train_a</td>\n",
       "      <td>0 days 00:04:00</td>\n",
       "      <td>-5.12</td>\n",
       "      <td>3.68</td>\n",
       "      <td>0.49</td>\n",
       "      <td>4.62</td>\n",
       "      <td>145.72</td>\n",
       "      <td>-5.12</td>\n",
       "      <td>3.68</td>\n",
       "      <td>0.49</td>\n",
       "      <td>4.62</td>\n",
       "      <td>145.72</td>\n",
       "      <td>6.65</td>\n",
       "      <td>1.77</td>\n",
       "      <td>384.26</td>\n",
       "      <td>94269.0</td>\n",
       "      <td>ac</td>\n",
       "    </tr>\n",
       "    <tr>\n",
       "      <th>...</th>\n",
       "      <td>...</td>\n",
       "      <td>...</td>\n",
       "      <td>...</td>\n",
       "      <td>...</td>\n",
       "      <td>...</td>\n",
       "      <td>...</td>\n",
       "      <td>...</td>\n",
       "      <td>...</td>\n",
       "      <td>...</td>\n",
       "      <td>...</td>\n",
       "      <td>...</td>\n",
       "      <td>...</td>\n",
       "      <td>...</td>\n",
       "      <td>...</td>\n",
       "      <td>...</td>\n",
       "      <td>...</td>\n",
       "      <td>...</td>\n",
       "    </tr>\n",
       "    <tr>\n",
       "      <th>8392315</th>\n",
       "      <td>train_c</td>\n",
       "      <td>2435 days 23:55:00</td>\n",
       "      <td>-1.18</td>\n",
       "      <td>2.00</td>\n",
       "      <td>-3.92</td>\n",
       "      <td>-59.28</td>\n",
       "      <td>120.51</td>\n",
       "      <td>-1.17</td>\n",
       "      <td>2.98</td>\n",
       "      <td>-3.23</td>\n",
       "      <td>-45.24</td>\n",
       "      <td>111.48</td>\n",
       "      <td>4.56</td>\n",
       "      <td>4.64</td>\n",
       "      <td>348.73</td>\n",
       "      <td>23368.0</td>\n",
       "      <td>ac</td>\n",
       "    </tr>\n",
       "    <tr>\n",
       "      <th>8392316</th>\n",
       "      <td>train_c</td>\n",
       "      <td>2435 days 23:56:00</td>\n",
       "      <td>-1.34</td>\n",
       "      <td>2.12</td>\n",
       "      <td>-3.83</td>\n",
       "      <td>-56.78</td>\n",
       "      <td>122.23</td>\n",
       "      <td>-1.33</td>\n",
       "      <td>3.08</td>\n",
       "      <td>-3.12</td>\n",
       "      <td>-42.95</td>\n",
       "      <td>113.45</td>\n",
       "      <td>4.58</td>\n",
       "      <td>4.27</td>\n",
       "      <td>346.36</td>\n",
       "      <td>26497.0</td>\n",
       "      <td>ac</td>\n",
       "    </tr>\n",
       "    <tr>\n",
       "      <th>8392317</th>\n",
       "      <td>train_c</td>\n",
       "      <td>2435 days 23:57:00</td>\n",
       "      <td>-1.62</td>\n",
       "      <td>2.33</td>\n",
       "      <td>-3.63</td>\n",
       "      <td>-51.98</td>\n",
       "      <td>124.76</td>\n",
       "      <td>-1.61</td>\n",
       "      <td>3.22</td>\n",
       "      <td>-2.87</td>\n",
       "      <td>-38.57</td>\n",
       "      <td>116.58</td>\n",
       "      <td>4.61</td>\n",
       "      <td>3.95</td>\n",
       "      <td>344.12</td>\n",
       "      <td>27050.0</td>\n",
       "      <td>ac</td>\n",
       "    </tr>\n",
       "    <tr>\n",
       "      <th>8392318</th>\n",
       "      <td>train_c</td>\n",
       "      <td>2435 days 23:58:00</td>\n",
       "      <td>-2.27</td>\n",
       "      <td>2.48</td>\n",
       "      <td>-3.22</td>\n",
       "      <td>-43.81</td>\n",
       "      <td>132.50</td>\n",
       "      <td>-2.26</td>\n",
       "      <td>3.25</td>\n",
       "      <td>-2.44</td>\n",
       "      <td>-31.61</td>\n",
       "      <td>124.81</td>\n",
       "      <td>4.65</td>\n",
       "      <td>2.81</td>\n",
       "      <td>338.52</td>\n",
       "      <td>33257.0</td>\n",
       "      <td>ac</td>\n",
       "    </tr>\n",
       "    <tr>\n",
       "      <th>8392319</th>\n",
       "      <td>train_c</td>\n",
       "      <td>2435 days 23:59:00</td>\n",
       "      <td>-2.15</td>\n",
       "      <td>2.41</td>\n",
       "      <td>-3.30</td>\n",
       "      <td>-45.55</td>\n",
       "      <td>131.76</td>\n",
       "      <td>-2.15</td>\n",
       "      <td>3.21</td>\n",
       "      <td>-2.53</td>\n",
       "      <td>-33.21</td>\n",
       "      <td>123.75</td>\n",
       "      <td>4.62</td>\n",
       "      <td>2.30</td>\n",
       "      <td>342.31</td>\n",
       "      <td>32267.0</td>\n",
       "      <td>ac</td>\n",
       "    </tr>\n",
       "  </tbody>\n",
       "</table>\n",
       "<p>8392320 rows × 17 columns</p>\n",
       "</div>"
      ],
      "text/plain": [
       "          period           timedelta  bx_gse  by_gse  bz_gse  theta_gse  \\\n",
       "0        train_a     0 days 00:00:00   -5.55    3.00    1.25      11.09   \n",
       "1        train_a     0 days 00:01:00   -5.58    3.16    1.17      10.10   \n",
       "2        train_a     0 days 00:02:00   -5.15    3.66    0.85       7.87   \n",
       "3        train_a     0 days 00:03:00   -5.20    3.68    0.68       6.17   \n",
       "4        train_a     0 days 00:04:00   -5.12    3.68    0.49       4.62   \n",
       "...          ...                 ...     ...     ...     ...        ...   \n",
       "8392315  train_c  2435 days 23:55:00   -1.18    2.00   -3.92     -59.28   \n",
       "8392316  train_c  2435 days 23:56:00   -1.34    2.12   -3.83     -56.78   \n",
       "8392317  train_c  2435 days 23:57:00   -1.62    2.33   -3.63     -51.98   \n",
       "8392318  train_c  2435 days 23:58:00   -2.27    2.48   -3.22     -43.81   \n",
       "8392319  train_c  2435 days 23:59:00   -2.15    2.41   -3.30     -45.55   \n",
       "\n",
       "         phi_gse  bx_gsm  by_gsm  bz_gsm  theta_gsm  phi_gsm    bt  density  \\\n",
       "0         153.37   -5.55    3.00    1.25      11.09   153.37  6.80     1.53   \n",
       "1         151.91   -5.58    3.16    1.17      10.10   151.91  6.83     1.69   \n",
       "2         146.04   -5.15    3.66    0.85       7.87   146.04  6.77     1.97   \n",
       "3         146.17   -5.20    3.68    0.68       6.17   146.17  6.74     1.97   \n",
       "4         145.72   -5.12    3.68    0.49       4.62   145.72  6.65     1.77   \n",
       "...          ...     ...     ...     ...        ...      ...   ...      ...   \n",
       "8392315   120.51   -1.17    2.98   -3.23     -45.24   111.48  4.56     4.64   \n",
       "8392316   122.23   -1.33    3.08   -3.12     -42.95   113.45  4.58     4.27   \n",
       "8392317   124.76   -1.61    3.22   -2.87     -38.57   116.58  4.61     3.95   \n",
       "8392318   132.50   -2.26    3.25   -2.44     -31.61   124.81  4.65     2.81   \n",
       "8392319   131.76   -2.15    3.21   -2.53     -33.21   123.75  4.62     2.30   \n",
       "\n",
       "          speed  temperature source  \n",
       "0        383.92     110237.0     ac  \n",
       "1        381.79     123825.0     ac  \n",
       "2        389.11      82548.0     ac  \n",
       "3        389.11      82548.0     ac  \n",
       "4        384.26      94269.0     ac  \n",
       "...         ...          ...    ...  \n",
       "8392315  348.73      23368.0     ac  \n",
       "8392316  346.36      26497.0     ac  \n",
       "8392317  344.12      27050.0     ac  \n",
       "8392318  338.52      33257.0     ac  \n",
       "8392319  342.31      32267.0     ac  \n",
       "\n",
       "[8392320 rows x 17 columns]"
      ]
     },
     "execution_count": 501,
     "metadata": {},
     "output_type": "execute_result"
    }
   ],
   "source": [
    "#Para observar de antemano los dataframe, descomentar alguno de estos\n",
    "\n",
    "df_solar_wind\n",
    "#df_dst"
   ]
  },
  {
   "cell_type": "markdown",
   "metadata": {},
   "source": [
    "# Limpieza de dataframe\n",
    "\n",
    "Quitamos los datos que, por lo que hemos investigado, no nos son relevantes para el estudio en cuestión."
   ]
  },
  {
   "cell_type": "code",
   "execution_count": 590,
   "metadata": {},
   "outputs": [
    {
     "data": {
      "text/html": [
       "<div>\n",
       "<style scoped>\n",
       "    .dataframe tbody tr th:only-of-type {\n",
       "        vertical-align: middle;\n",
       "    }\n",
       "\n",
       "    .dataframe tbody tr th {\n",
       "        vertical-align: top;\n",
       "    }\n",
       "\n",
       "    .dataframe thead th {\n",
       "        text-align: right;\n",
       "    }\n",
       "</style>\n",
       "<table border=\"1\" class=\"dataframe\">\n",
       "  <thead>\n",
       "    <tr style=\"text-align: right;\">\n",
       "      <th></th>\n",
       "      <th>bz_gse</th>\n",
       "      <th>bt</th>\n",
       "      <th>density</th>\n",
       "      <th>speed</th>\n",
       "      <th>temperature</th>\n",
       "    </tr>\n",
       "  </thead>\n",
       "  <tbody>\n",
       "    <tr>\n",
       "      <th>0</th>\n",
       "      <td>1.25</td>\n",
       "      <td>6.80</td>\n",
       "      <td>1.53</td>\n",
       "      <td>383.92</td>\n",
       "      <td>110237.0</td>\n",
       "    </tr>\n",
       "    <tr>\n",
       "      <th>1</th>\n",
       "      <td>1.17</td>\n",
       "      <td>6.83</td>\n",
       "      <td>1.69</td>\n",
       "      <td>381.79</td>\n",
       "      <td>123825.0</td>\n",
       "    </tr>\n",
       "    <tr>\n",
       "      <th>2</th>\n",
       "      <td>0.85</td>\n",
       "      <td>6.77</td>\n",
       "      <td>1.97</td>\n",
       "      <td>389.11</td>\n",
       "      <td>82548.0</td>\n",
       "    </tr>\n",
       "    <tr>\n",
       "      <th>3</th>\n",
       "      <td>0.68</td>\n",
       "      <td>6.74</td>\n",
       "      <td>1.97</td>\n",
       "      <td>389.11</td>\n",
       "      <td>82548.0</td>\n",
       "    </tr>\n",
       "    <tr>\n",
       "      <th>4</th>\n",
       "      <td>0.49</td>\n",
       "      <td>6.65</td>\n",
       "      <td>1.77</td>\n",
       "      <td>384.26</td>\n",
       "      <td>94269.0</td>\n",
       "    </tr>\n",
       "    <tr>\n",
       "      <th>...</th>\n",
       "      <td>...</td>\n",
       "      <td>...</td>\n",
       "      <td>...</td>\n",
       "      <td>...</td>\n",
       "      <td>...</td>\n",
       "    </tr>\n",
       "    <tr>\n",
       "      <th>8392315</th>\n",
       "      <td>-3.92</td>\n",
       "      <td>4.56</td>\n",
       "      <td>4.64</td>\n",
       "      <td>348.73</td>\n",
       "      <td>23368.0</td>\n",
       "    </tr>\n",
       "    <tr>\n",
       "      <th>8392316</th>\n",
       "      <td>-3.83</td>\n",
       "      <td>4.58</td>\n",
       "      <td>4.27</td>\n",
       "      <td>346.36</td>\n",
       "      <td>26497.0</td>\n",
       "    </tr>\n",
       "    <tr>\n",
       "      <th>8392317</th>\n",
       "      <td>-3.63</td>\n",
       "      <td>4.61</td>\n",
       "      <td>3.95</td>\n",
       "      <td>344.12</td>\n",
       "      <td>27050.0</td>\n",
       "    </tr>\n",
       "    <tr>\n",
       "      <th>8392318</th>\n",
       "      <td>-3.22</td>\n",
       "      <td>4.65</td>\n",
       "      <td>2.81</td>\n",
       "      <td>338.52</td>\n",
       "      <td>33257.0</td>\n",
       "    </tr>\n",
       "    <tr>\n",
       "      <th>8392319</th>\n",
       "      <td>-3.30</td>\n",
       "      <td>4.62</td>\n",
       "      <td>2.30</td>\n",
       "      <td>342.31</td>\n",
       "      <td>32267.0</td>\n",
       "    </tr>\n",
       "  </tbody>\n",
       "</table>\n",
       "<p>8392320 rows × 5 columns</p>\n",
       "</div>"
      ],
      "text/plain": [
       "         bz_gse    bt  density   speed  temperature\n",
       "0          1.25  6.80     1.53  383.92     110237.0\n",
       "1          1.17  6.83     1.69  381.79     123825.0\n",
       "2          0.85  6.77     1.97  389.11      82548.0\n",
       "3          0.68  6.74     1.97  389.11      82548.0\n",
       "4          0.49  6.65     1.77  384.26      94269.0\n",
       "...         ...   ...      ...     ...          ...\n",
       "8392315   -3.92  4.56     4.64  348.73      23368.0\n",
       "8392316   -3.83  4.58     4.27  346.36      26497.0\n",
       "8392317   -3.63  4.61     3.95  344.12      27050.0\n",
       "8392318   -3.22  4.65     2.81  338.52      33257.0\n",
       "8392319   -3.30  4.62     2.30  342.31      32267.0\n",
       "\n",
       "[8392320 rows x 5 columns]"
      ]
     },
     "execution_count": 590,
     "metadata": {},
     "output_type": "execute_result"
    }
   ],
   "source": [
    "df_solar_wind.drop(columns=['bx_gse', 'by_gse', 'theta_gse', 'phi_gse', 'bx_gsm', 'by_gsm', 'theta_gsm', 'phi_gsm', 'period','source', 'timedelta', 'bz_gsm'], inplace=True)\n",
    "df_solar_wind"
   ]
  },
  {
   "cell_type": "markdown",
   "metadata": {},
   "source": [
    "Como podremos ver, hay varias filas con valores NaN. No podemos eliminarlos porque 60 mediciones corresponden a un valor de DST (que sería como nuestra puntuación). Por lo tanto aproximaremos los valores NaN con la interpolación lineal entre las mediciones vecinas."
   ]
  },
  {
   "cell_type": "code",
   "execution_count": 591,
   "metadata": {},
   "outputs": [
    {
     "name": "stdout",
     "output_type": "stream",
     "text": [
      "Cantidad de valores Nan por columna:\n"
     ]
    },
    {
     "data": {
      "text/plain": [
       "bz_gse         325888\n",
       "bt             325888\n",
       "density        684890\n",
       "speed          689555\n",
       "temperature    811768\n",
       "dtype: int64"
      ]
     },
     "execution_count": 591,
     "metadata": {},
     "output_type": "execute_result"
    }
   ],
   "source": [
    "#Cantidad de valores NaN por columna\n",
    "\n",
    "print('Cantidad de valores Nan por columna:')\n",
    "df_solar_wind.isna().sum().sort_values()"
   ]
  },
  {
   "cell_type": "code",
   "execution_count": 592,
   "metadata": {},
   "outputs": [],
   "source": [
    "#Realizamos interpolación.\n",
    "df_solar_wind.interpolate(limit_direction='both', inplace=True)\n",
    "#Limit both se usa para interpolar en caso de que en los extremos superior o inferior también hayan valores NaN."
   ]
  },
  {
   "cell_type": "code",
   "execution_count": 593,
   "metadata": {},
   "outputs": [
    {
     "name": "stdout",
     "output_type": "stream",
     "text": [
      "Cantidad de valores Nan por columna:\n"
     ]
    },
    {
     "data": {
      "text/plain": [
       "bz_gse         0\n",
       "bt             0\n",
       "density        0\n",
       "speed          0\n",
       "temperature    0\n",
       "dtype: int64"
      ]
     },
     "execution_count": 593,
     "metadata": {},
     "output_type": "execute_result"
    }
   ],
   "source": [
    "#Comprobamos que no hay valores NaN:\n",
    "print('Cantidad de valores Nan por columna:')\n",
    "df_solar_wind.isna().sum().sort_values()"
   ]
  },
  {
   "cell_type": "markdown",
   "metadata": {},
   "source": [
    "## Análisis preliminar de datos\n",
    "\n"
   ]
  },
  {
   "cell_type": "code",
   "execution_count": 506,
   "metadata": {},
   "outputs": [
    {
     "data": {
      "text/html": [
       "<div>\n",
       "<style scoped>\n",
       "    .dataframe tbody tr th:only-of-type {\n",
       "        vertical-align: middle;\n",
       "    }\n",
       "\n",
       "    .dataframe tbody tr th {\n",
       "        vertical-align: top;\n",
       "    }\n",
       "\n",
       "    .dataframe thead th {\n",
       "        text-align: right;\n",
       "    }\n",
       "</style>\n",
       "<table border=\"1\" class=\"dataframe\">\n",
       "  <thead>\n",
       "    <tr style=\"text-align: right;\">\n",
       "      <th></th>\n",
       "      <th>bz_gse</th>\n",
       "      <th>bt</th>\n",
       "      <th>density</th>\n",
       "      <th>speed</th>\n",
       "      <th>temperature</th>\n",
       "    </tr>\n",
       "  </thead>\n",
       "  <tbody>\n",
       "    <tr>\n",
       "      <th>count</th>\n",
       "      <td>8.392320e+06</td>\n",
       "      <td>8.392320e+06</td>\n",
       "      <td>8.392320e+06</td>\n",
       "      <td>8.392320e+06</td>\n",
       "      <td>8.392320e+06</td>\n",
       "    </tr>\n",
       "    <tr>\n",
       "      <th>mean</th>\n",
       "      <td>-2.155260e-02</td>\n",
       "      <td>5.617213e+00</td>\n",
       "      <td>4.407689e+00</td>\n",
       "      <td>4.301172e+02</td>\n",
       "      <td>1.132176e+05</td>\n",
       "    </tr>\n",
       "    <tr>\n",
       "      <th>std</th>\n",
       "      <td>3.346154e+00</td>\n",
       "      <td>3.114910e+00</td>\n",
       "      <td>4.408094e+00</td>\n",
       "      <td>1.002283e+02</td>\n",
       "      <td>1.202403e+05</td>\n",
       "    </tr>\n",
       "    <tr>\n",
       "      <th>min</th>\n",
       "      <td>-5.500000e+01</td>\n",
       "      <td>3.000000e-02</td>\n",
       "      <td>0.000000e+00</td>\n",
       "      <td>0.000000e+00</td>\n",
       "      <td>0.000000e+00</td>\n",
       "    </tr>\n",
       "    <tr>\n",
       "      <th>25%</th>\n",
       "      <td>-1.700000e+00</td>\n",
       "      <td>3.640000e+00</td>\n",
       "      <td>1.780000e+00</td>\n",
       "      <td>3.566900e+02</td>\n",
       "      <td>3.906400e+04</td>\n",
       "    </tr>\n",
       "    <tr>\n",
       "      <th>50%</th>\n",
       "      <td>1.000000e-02</td>\n",
       "      <td>4.960000e+00</td>\n",
       "      <td>3.310000e+00</td>\n",
       "      <td>4.093485e+02</td>\n",
       "      <td>7.630500e+04</td>\n",
       "    </tr>\n",
       "    <tr>\n",
       "      <th>75%</th>\n",
       "      <td>1.690000e+00</td>\n",
       "      <td>6.730000e+00</td>\n",
       "      <td>5.660000e+00</td>\n",
       "      <td>4.845700e+02</td>\n",
       "      <td>1.484220e+05</td>\n",
       "    </tr>\n",
       "    <tr>\n",
       "      <th>max</th>\n",
       "      <td>7.403000e+01</td>\n",
       "      <td>8.053000e+01</td>\n",
       "      <td>1.997000e+02</td>\n",
       "      <td>1.198490e+03</td>\n",
       "      <td>6.223700e+06</td>\n",
       "    </tr>\n",
       "  </tbody>\n",
       "</table>\n",
       "</div>"
      ],
      "text/plain": [
       "             bz_gse            bt       density         speed   temperature\n",
       "count  8.392320e+06  8.392320e+06  8.392320e+06  8.392320e+06  8.392320e+06\n",
       "mean  -2.155260e-02  5.617213e+00  4.407689e+00  4.301172e+02  1.132176e+05\n",
       "std    3.346154e+00  3.114910e+00  4.408094e+00  1.002283e+02  1.202403e+05\n",
       "min   -5.500000e+01  3.000000e-02  0.000000e+00  0.000000e+00  0.000000e+00\n",
       "25%   -1.700000e+00  3.640000e+00  1.780000e+00  3.566900e+02  3.906400e+04\n",
       "50%    1.000000e-02  4.960000e+00  3.310000e+00  4.093485e+02  7.630500e+04\n",
       "75%    1.690000e+00  6.730000e+00  5.660000e+00  4.845700e+02  1.484220e+05\n",
       "max    7.403000e+01  8.053000e+01  1.997000e+02  1.198490e+03  6.223700e+06"
      ]
     },
     "execution_count": 506,
     "metadata": {},
     "output_type": "execute_result"
    }
   ],
   "source": [
    "df_solar_wind.describe()"
   ]
  },
  {
   "cell_type": "code",
   "execution_count": 507,
   "metadata": {},
   "outputs": [
    {
     "data": {
      "text/html": [
       "<div>\n",
       "<style scoped>\n",
       "    .dataframe tbody tr th:only-of-type {\n",
       "        vertical-align: middle;\n",
       "    }\n",
       "\n",
       "    .dataframe tbody tr th {\n",
       "        vertical-align: top;\n",
       "    }\n",
       "\n",
       "    .dataframe thead th {\n",
       "        text-align: right;\n",
       "    }\n",
       "</style>\n",
       "<table border=\"1\" class=\"dataframe\">\n",
       "  <thead>\n",
       "    <tr style=\"text-align: right;\">\n",
       "      <th></th>\n",
       "      <th>dst</th>\n",
       "    </tr>\n",
       "  </thead>\n",
       "  <tbody>\n",
       "    <tr>\n",
       "      <th>count</th>\n",
       "      <td>139872.000000</td>\n",
       "    </tr>\n",
       "    <tr>\n",
       "      <th>mean</th>\n",
       "      <td>-11.055236</td>\n",
       "    </tr>\n",
       "    <tr>\n",
       "      <th>std</th>\n",
       "      <td>19.069327</td>\n",
       "    </tr>\n",
       "    <tr>\n",
       "      <th>min</th>\n",
       "      <td>-387.000000</td>\n",
       "    </tr>\n",
       "    <tr>\n",
       "      <th>25%</th>\n",
       "      <td>-18.000000</td>\n",
       "    </tr>\n",
       "    <tr>\n",
       "      <th>50%</th>\n",
       "      <td>-8.000000</td>\n",
       "    </tr>\n",
       "    <tr>\n",
       "      <th>75%</th>\n",
       "      <td>0.000000</td>\n",
       "    </tr>\n",
       "    <tr>\n",
       "      <th>max</th>\n",
       "      <td>67.000000</td>\n",
       "    </tr>\n",
       "  </tbody>\n",
       "</table>\n",
       "</div>"
      ],
      "text/plain": [
       "                 dst\n",
       "count  139872.000000\n",
       "mean      -11.055236\n",
       "std        19.069327\n",
       "min      -387.000000\n",
       "25%       -18.000000\n",
       "50%        -8.000000\n",
       "75%         0.000000\n",
       "max        67.000000"
      ]
     },
     "execution_count": 507,
     "metadata": {},
     "output_type": "execute_result"
    }
   ],
   "source": [
    "df_dst.describe()"
   ]
  },
  {
   "cell_type": "markdown",
   "metadata": {},
   "source": [
    "Podemos ver que el mínimo sdt observado es -387. Según nuestra investigación, de 0 a -50 es tormenta leve, de -50 a -100 es tormenta moderada, de -100 a -250 es tormenta severa y menor a -250 es super tormenta."
   ]
  },
  {
   "cell_type": "code",
   "execution_count": 508,
   "metadata": {},
   "outputs": [
    {
     "data": {
      "text/plain": [
       "<AxesSubplot:xlabel='dst', ylabel='Density'>"
      ]
     },
     "execution_count": 508,
     "metadata": {},
     "output_type": "execute_result"
    },
    {
     "data": {
      "image/png": "[encoded data removed]",
      "text/plain": [
       "<Figure size 432x288 with 1 Axes>"
      ]
     },
     "metadata": {},
     "output_type": "display_data"
    }
   ],
   "source": [
    "sns.distplot(df_dst['dst'])"
   ]
  },
  {
   "cell_type": "code",
   "execution_count": 509,
   "metadata": {},
   "outputs": [
    {
     "data": {
      "text/plain": [
       "-52.0"
      ]
     },
     "execution_count": 509,
     "metadata": {},
     "output_type": "execute_result"
    }
   ],
   "source": [
    "np.percentile(df_dst['dst'],3)"
   ]
  },
  {
   "cell_type": "markdown",
   "metadata": {},
   "source": [
    "Mediante el gráfico, podemos ver que aproximadamente menos del 3% de los datos dan como resultado un dst menor al -50 (hasta -50 es tormenta leve)"
   ]
  },
  {
   "cell_type": "code",
   "execution_count": 510,
   "metadata": {},
   "outputs": [
    {
     "data": {
      "image/png": "[encoded data removed]",
      "text/plain": [
       "<Figure size 600x480 with 2 Axes>"
      ]
     },
     "metadata": {},
     "output_type": "display_data"
    }
   ],
   "source": [
    "plt.rcParams.update({'font.size': 8})\n",
    "plt.figure(dpi = 120,figsize= (5,4), )\n",
    "mask = np.triu(np.ones_like(df_solar_wind.corr(),dtype = bool))\n",
    "sns.heatmap(df_solar_wind.corr(),mask = mask, fmt = \".2f\",annot=True,lw=1,cmap = 'plasma')\n",
    "plt.yticks(rotation = 0)\n",
    "plt.xticks(rotation = 90)\n",
    "plt.title('Correlation Heatmap')\n",
    "plt.show()"
   ]
  },
  {
   "cell_type": "markdown",
   "metadata": {},
   "source": [
    "Entre las variables del dataframe solar_wind, podemos ver que no hay correlaciones relevantes entre ellas. Sí se puede observar, que cuando la velocidad es alta, la temperatura también tiende a ser alta."
   ]
  },
  {
   "cell_type": "markdown",
   "metadata": {},
   "source": [
    "# Preparación de dataset para modelo de ML\n",
    "\n",
    "Como por cada 60 mediciones, cada una con sus variables, tienen como resultado un solo valor dst, tengo que encontrar la forma de unificar las mediciones para que quede como 1 medición promedio para un solo valor de dst."
   ]
  },
  {
   "cell_type": "code",
   "execution_count": 511,
   "metadata": {},
   "outputs": [
    {
     "name": "stdout",
     "output_type": "stream",
     "text": [
      "Número total de mediciones dividido 60:\n",
      "\t139872\n",
      "Número de valores dts:\n",
      "\t139872\n"
     ]
    }
   ],
   "source": [
    "#Veremos a qué me refiero con esto:\n",
    "\n",
    "print('Número total de mediciones dividido 60:\\n\\t' + str(len(df_solar_wind)//60))\n",
    "print('Número de valores dts:\\n\\t' + str(len(df_dst)))\n"
   ]
  },
  {
   "cell_type": "markdown",
   "metadata": {},
   "source": [
    "NOTA IMPORTANTE. Para disminuir el tiempo de procesamiento, en vez de tomar los casi 140000 datos, se tomaron únicamente 20000\n",
    "\n",
    "Si hay tiempo, ampliaremos la muestra"
   ]
  },
  {
   "cell_type": "code",
   "execution_count": 512,
   "metadata": {},
   "outputs": [
    {
     "name": "stdout",
     "output_type": "stream",
     "text": [
      "Tiempo: 0.040009260177612305\n",
      "         bz_gse         bt   density       speed    temperature\n",
      "0     -3.875500   5.134167  1.185917  303.283333   21103.516667\n",
      "1     -0.874220   5.272708  2.374045  364.244171   59822.326633\n",
      "2     -1.213500   2.473833  5.563000  372.861500   49186.975000\n",
      "3     -0.125833   5.070000  1.040167  457.095500  103177.250000\n",
      "4      1.333333   3.011333  2.990167  466.981583   94919.558333\n",
      "...         ...        ...       ...         ...            ...\n",
      "29995 -1.696667   2.009667  2.254917  293.261167   33636.458333\n",
      "29996 -2.317333  11.792500  4.201083  457.554583   29569.691667\n",
      "29997  1.045667   2.727167  4.996167  343.526667    8554.333333\n",
      "29998 -1.230833   7.768833  7.129583  396.833750  120941.550000\n",
      "29999 -1.694000   8.413333  4.430167  454.191000  172187.416667\n",
      "\n",
      "[30000 rows x 5 columns]\n"
     ]
    },
    {
     "data": {
      "text/plain": [
       "''"
      ]
     },
     "execution_count": 512,
     "metadata": {},
     "output_type": "execute_result"
    }
   ],
   "source": [
    "''' COMENTADO PORQUE ESTE PROCESO DE IR APROXIMANDO DE A 60 DATOS DEMORA BASTANTE TIEMPO. EL DATAFRAME RESULTANTE FUE GUARDADO COMO df_prom_solar.csv PARA EVITAR ESTE PASO\n",
    "'''\n",
    "\n",
    "#Creo el dataframe que tendrá como filas, el promedio de 60 mediciones.\n",
    "df_prom_solar = pd.DataFrame(columns=['bz_gse', 'bt', 'density', 'speed', 'temperature'])\n",
    "\n",
    "\n",
    "#Creo la lista de índices para elegir de forma aleatoria el primero de cada conjunto\n",
    "indice_primeros = []\n",
    "\n",
    "\n",
    "#Como los conjuntos de datos vienen de a 60, creo una lista con tódos los índices posibles que podría seleccionar. Estos índices apuntan al primero de los grupos de 60.\n",
    "lista_indices = list(range(0, len(df_solar_wind), 60))\n",
    "\n",
    "#Acá almacenaré los índices seleccionados para luego saber qué dst seleccionar.\n",
    "indices_seleccionados = []\n",
    "\n",
    "\n",
    "\n",
    "for j in range(30000):#range( len(df_solar_wind) // 60 ):\n",
    "    \n",
    "    inicio = time.time()\n",
    "\n",
    "    indice_aleatorio = random.choice(lista_indices) #Selecciono índice al azar\n",
    "    lista_indices.remove(indice_aleatorio)          #Elimino el ya seleccionado para evitar repetición\n",
    "    indices_seleccionados.append(indice_aleatorio//60)             #Agrego a la lista de índices seleccionados, pero dividido 60 (porque en el dataframe de dst es 60 veces más chico)\n",
    "    \n",
    "    df_auxiliar = pd.DataFrame(columns=['bz_gse', 'bt', 'density', 'speed', 'temperature']) #Iré guardando de a 60 filas para luego sacarles el promedio y almacenarlos en df_prom_solar\n",
    "    #Cada vez que se llega a este punto, se vacía el dataframe\n",
    "    \n",
    "    for i in range(60):\n",
    "        \n",
    "        df_auxiliar.loc[i] = df_solar_wind.iloc[i+indice_aleatorio]\n",
    "\n",
    "\n",
    "    df_prom_solar.loc[j] = df_auxiliar.mean()\n",
    "    #df_prom_solar = df_prom_solar.append(df_auxiliar.mean(), ignore_index=True)\n",
    "\n",
    "    final = time.time()\n",
    "    \n",
    "\n",
    "print('Tiempo: ' + str(final-inicio))\n",
    "\n",
    "print(df_prom_solar)\n",
    "\n",
    "df_prom_solar.to_csv('df_prom_solar.csv', index=False)\n",
    "\n",
    "''''''\n",
    "\n",
    "\n"
   ]
  },
  {
   "cell_type": "code",
   "execution_count": 612,
   "metadata": {},
   "outputs": [
    {
     "data": {
      "text/html": [
       "<div>\n",
       "<style scoped>\n",
       "    .dataframe tbody tr th:only-of-type {\n",
       "        vertical-align: middle;\n",
       "    }\n",
       "\n",
       "    .dataframe tbody tr th {\n",
       "        vertical-align: top;\n",
       "    }\n",
       "\n",
       "    .dataframe thead th {\n",
       "        text-align: right;\n",
       "    }\n",
       "</style>\n",
       "<table border=\"1\" class=\"dataframe\">\n",
       "  <thead>\n",
       "    <tr style=\"text-align: right;\">\n",
       "      <th></th>\n",
       "      <th>bz_gse</th>\n",
       "      <th>bt</th>\n",
       "      <th>density</th>\n",
       "      <th>speed</th>\n",
       "      <th>temperature</th>\n",
       "      <th>dst</th>\n",
       "    </tr>\n",
       "  </thead>\n",
       "  <tbody>\n",
       "    <tr>\n",
       "      <th>0</th>\n",
       "      <td>-3.875500</td>\n",
       "      <td>5.134167</td>\n",
       "      <td>1.185917</td>\n",
       "      <td>303.283333</td>\n",
       "      <td>21103.516667</td>\n",
       "      <td>14.0</td>\n",
       "    </tr>\n",
       "    <tr>\n",
       "      <th>1</th>\n",
       "      <td>-0.874220</td>\n",
       "      <td>5.272708</td>\n",
       "      <td>2.374045</td>\n",
       "      <td>364.244171</td>\n",
       "      <td>59822.326633</td>\n",
       "      <td>-2.0</td>\n",
       "    </tr>\n",
       "    <tr>\n",
       "      <th>2</th>\n",
       "      <td>-1.213500</td>\n",
       "      <td>2.473833</td>\n",
       "      <td>5.563000</td>\n",
       "      <td>372.861500</td>\n",
       "      <td>49186.975000</td>\n",
       "      <td>13.0</td>\n",
       "    </tr>\n",
       "    <tr>\n",
       "      <th>3</th>\n",
       "      <td>-0.125833</td>\n",
       "      <td>5.070000</td>\n",
       "      <td>1.040167</td>\n",
       "      <td>457.095500</td>\n",
       "      <td>103177.250000</td>\n",
       "      <td>3.0</td>\n",
       "    </tr>\n",
       "    <tr>\n",
       "      <th>4</th>\n",
       "      <td>1.333333</td>\n",
       "      <td>3.011333</td>\n",
       "      <td>2.990167</td>\n",
       "      <td>466.981583</td>\n",
       "      <td>94919.558333</td>\n",
       "      <td>-8.0</td>\n",
       "    </tr>\n",
       "    <tr>\n",
       "      <th>...</th>\n",
       "      <td>...</td>\n",
       "      <td>...</td>\n",
       "      <td>...</td>\n",
       "      <td>...</td>\n",
       "      <td>...</td>\n",
       "      <td>...</td>\n",
       "    </tr>\n",
       "    <tr>\n",
       "      <th>29995</th>\n",
       "      <td>-1.696667</td>\n",
       "      <td>2.009667</td>\n",
       "      <td>2.254917</td>\n",
       "      <td>293.261167</td>\n",
       "      <td>33636.458333</td>\n",
       "      <td>1.0</td>\n",
       "    </tr>\n",
       "    <tr>\n",
       "      <th>29996</th>\n",
       "      <td>-2.317333</td>\n",
       "      <td>11.792500</td>\n",
       "      <td>4.201083</td>\n",
       "      <td>457.554583</td>\n",
       "      <td>29569.691667</td>\n",
       "      <td>-31.0</td>\n",
       "    </tr>\n",
       "    <tr>\n",
       "      <th>29997</th>\n",
       "      <td>1.045667</td>\n",
       "      <td>2.727167</td>\n",
       "      <td>4.996167</td>\n",
       "      <td>343.526667</td>\n",
       "      <td>8554.333333</td>\n",
       "      <td>-1.0</td>\n",
       "    </tr>\n",
       "    <tr>\n",
       "      <th>29998</th>\n",
       "      <td>-1.230833</td>\n",
       "      <td>7.768833</td>\n",
       "      <td>7.129583</td>\n",
       "      <td>396.833750</td>\n",
       "      <td>120941.550000</td>\n",
       "      <td>11.0</td>\n",
       "    </tr>\n",
       "    <tr>\n",
       "      <th>29999</th>\n",
       "      <td>-1.694000</td>\n",
       "      <td>8.413333</td>\n",
       "      <td>4.430167</td>\n",
       "      <td>454.191000</td>\n",
       "      <td>172187.416667</td>\n",
       "      <td>-15.0</td>\n",
       "    </tr>\n",
       "  </tbody>\n",
       "</table>\n",
       "<p>30000 rows × 6 columns</p>\n",
       "</div>"
      ],
      "text/plain": [
       "         bz_gse         bt   density       speed    temperature   dst\n",
       "0     -3.875500   5.134167  1.185917  303.283333   21103.516667  14.0\n",
       "1     -0.874220   5.272708  2.374045  364.244171   59822.326633  -2.0\n",
       "2     -1.213500   2.473833  5.563000  372.861500   49186.975000  13.0\n",
       "3     -0.125833   5.070000  1.040167  457.095500  103177.250000   3.0\n",
       "4      1.333333   3.011333  2.990167  466.981583   94919.558333  -8.0\n",
       "...         ...        ...       ...         ...            ...   ...\n",
       "29995 -1.696667   2.009667  2.254917  293.261167   33636.458333   1.0\n",
       "29996 -2.317333  11.792500  4.201083  457.554583   29569.691667 -31.0\n",
       "29997  1.045667   2.727167  4.996167  343.526667    8554.333333  -1.0\n",
       "29998 -1.230833   7.768833  7.129583  396.833750  120941.550000  11.0\n",
       "29999 -1.694000   8.413333  4.430167  454.191000  172187.416667 -15.0\n",
       "\n",
       "[30000 rows x 6 columns]"
      ]
     },
     "execution_count": 612,
     "metadata": {},
     "output_type": "execute_result"
    }
   ],
   "source": [
    "# Importamos dataframe donde cada fila son aproximaciones de 60 mediciones\n",
    "df_prom = pd.read_csv('df_prom_solar.csv')\n",
    "\n",
    "#Dropeo la columna de velocidad\n",
    "\n",
    "#df_prom.drop(columns=['temperature'], inplace=True)\n",
    "\n",
    "df_prom['dst'] = 0.0\n",
    "\n",
    "for i in range(len(df_prom) ):\n",
    "    df_prom['dst'][i] = df_dst.iloc[ indices_seleccionados[i] ]['dst']\n",
    "\n",
    "df_prom"
   ]
  },
  {
   "cell_type": "markdown",
   "metadata": {},
   "source": [
    "## Análisis de correlación entre variables y dst en el dataframe a analizar"
   ]
  },
  {
   "cell_type": "code",
   "execution_count": 613,
   "metadata": {},
   "outputs": [
    {
     "name": "stdout",
     "output_type": "stream",
     "text": [
      "<class 'pandas.core.frame.DataFrame'>\n",
      "RangeIndex: 30000 entries, 0 to 29999\n",
      "Data columns (total 6 columns):\n",
      " #   Column       Non-Null Count  Dtype  \n",
      "---  ------       --------------  -----  \n",
      " 0   bz_gse       30000 non-null  float64\n",
      " 1   bt           30000 non-null  float64\n",
      " 2   density      30000 non-null  float64\n",
      " 3   speed        30000 non-null  float64\n",
      " 4   temperature  30000 non-null  float64\n",
      " 5   dst          30000 non-null  float64\n",
      "dtypes: float64(6)\n",
      "memory usage: 1.4 MB\n"
     ]
    }
   ],
   "source": [
    "df_prom.info()"
   ]
  },
  {
   "cell_type": "code",
   "execution_count": 614,
   "metadata": {},
   "outputs": [
    {
     "data": {
      "image/png": "[encoded data removed]",
      "text/plain": [
       "<Figure size 600x480 with 2 Axes>"
      ]
     },
     "metadata": {},
     "output_type": "display_data"
    }
   ],
   "source": [
    "plt.rcParams.update({'font.size': 8})\n",
    "plt.figure(dpi = 120,figsize= (5,4), )\n",
    "mask = np.triu(np.ones_like(df_prom.corr(),dtype = bool))\n",
    "sns.heatmap(df_prom.corr(),mask = mask, fmt = \".2f\",annot=True,lw=1,cmap = 'plasma')\n",
    "plt.yticks(rotation = 0)\n",
    "plt.xticks(rotation = 90)\n",
    "plt.title('Correlation Heatmap')\n",
    "plt.show()"
   ]
  },
  {
   "cell_type": "markdown",
   "metadata": {},
   "source": [
    "Podemos ver que no hay gran relacion entre las variables independientes y nuestra variable objetivo. Esto nos permite que pueda generarse un modelo que sea equitativo a la hora de darle un peso a cada variable."
   ]
  },
  {
   "cell_type": "code",
   "execution_count": 625,
   "metadata": {},
   "outputs": [
    {
     "data": {
      "image/png": "[encoded data removed]",
      "text/plain": [
       "<Figure size 864x576 with 5 Axes>"
      ]
     },
     "metadata": {},
     "output_type": "display_data"
    }
   ],
   "source": [
    "# Gráfico de distribución para cada variable numérica\n",
    "# ==============================================================================\n",
    "# Ajustar número de subplots en función del número de columnas\n",
    "fig, axes = plt.subplots(nrows=2, ncols=3, figsize=(12, 8))\n",
    "axes = axes.flat\n",
    "columnas_numeric = df_prom.select_dtypes(include=['float64', 'int']).columns\n",
    "columnas_numeric = columnas_numeric.drop('dst')\n",
    "\n",
    "for i, colum in enumerate(columnas_numeric):\n",
    "    sns.histplot(\n",
    "        data    = df_prom,\n",
    "        x       = colum,\n",
    "        stat    = \"count\",\n",
    "        kde     = True,\n",
    "        color   = (list(plt.rcParams['axes.prop_cycle'])*2)[i][\"color\"],\n",
    "        line_kws= {'linewidth': 2},\n",
    "        alpha   = 0.3,\n",
    "        ax      = axes[i]\n",
    "    )\n",
    "    axes[i].set_title(colum, fontsize = 7, fontweight = \"bold\")\n",
    "    axes[i].tick_params(labelsize = 6)\n",
    "    axes[i].set_xlabel(\"\")\n",
    "\n",
    "# Se eliminan los axes vacíos\n",
    "for i in [5]:\n",
    "    fig.delaxes(axes[i])\n",
    "    \n",
    "    \n",
    "fig.tight_layout()\n",
    "plt.subplots_adjust(top = 0.9)\n",
    "fig.suptitle('Distribución variables numéricas', fontsize = 10, fontweight = \"bold\");"
   ]
  },
  {
   "cell_type": "code",
   "execution_count": 628,
   "metadata": {},
   "outputs": [
    {
     "data": {
      "image/png": "[encoded data removed]",
      "text/plain": [
       "<Figure size 864x576 with 5 Axes>"
      ]
     },
     "metadata": {},
     "output_type": "display_data"
    }
   ],
   "source": [
    "# Gráfico de distribución para cada variable numérica\n",
    "# ==============================================================================\n",
    "# Ajustar número de subplots en función del número de columnas\n",
    "fig, axes = plt.subplots(nrows=2, ncols=3, figsize=(12, 8))\n",
    "axes = axes.flat\n",
    "columnas_numeric = df_prom.select_dtypes(include=['float64', 'int']).columns\n",
    "columnas_numeric = columnas_numeric.drop('dst')\n",
    "\n",
    "for i, colum in enumerate(columnas_numeric):\n",
    "    sns.regplot(\n",
    "        x           = df_prom[colum],\n",
    "        y           = df_prom['dst'],\n",
    "        color       = \"gray\",\n",
    "        marker      = '.',\n",
    "        scatter_kws = {\"alpha\":0.4},\n",
    "        line_kws    = {\"color\":\"r\",\"alpha\":0.7},\n",
    "        ax          = axes[i]\n",
    "    )\n",
    "    axes[i].set_title(f\"DST vs {colum}\", fontsize = 12, fontweight = \"bold\")\n",
    "    #axes[i].ticklabel_format(style='sci', scilimits=(-4,4), axis='both')\n",
    "    #axes[i].yaxis.set_major_formatter(ticker.EngFormatter())\n",
    "    #axes[i].xaxis.set_major_formatter(ticker.EngFormatter())\n",
    "    axes[i].tick_params(labelsize = 6)\n",
    "    axes[i].set_xlabel(\"\")\n",
    "    axes[i].set_ylabel(\"\")\n",
    "\n",
    "# Se eliminan los axes vacíos\n",
    "for i in [5]:\n",
    "    fig.delaxes(axes[i])\n",
    "    \n",
    "fig.tight_layout()\n",
    "plt.subplots_adjust(top=0.9)\n",
    "fig.suptitle('Correlación con DST', fontsize = 10, fontweight = \"bold\");"
   ]
  },
  {
   "cell_type": "markdown",
   "metadata": {},
   "source": [
    "## Preparación del dataframe para entrenar al modelo\n",
    "\n",
    "Separaremos inputs de los outputs:"
   ]
  },
  {
   "cell_type": "code",
   "execution_count": 515,
   "metadata": {},
   "outputs": [],
   "source": [
    "X = df_prom.drop(columns=['dst'])\n",
    "y = df_prom['dst'].values"
   ]
  },
  {
   "cell_type": "markdown",
   "metadata": {},
   "source": [
    "Realizaremos una normalizacion de los predictores para que todos estén en la misma escala. De esta forma se evita que los que tengan mayor magnitud o varianza influencien en gran medida al modelo."
   ]
  },
  {
   "cell_type": "code",
   "execution_count": 516,
   "metadata": {},
   "outputs": [
    {
     "data": {
      "text/plain": [
       "array([[0.56442357, 0.08861381, 0.00922832, 0.25115356, 0.00485776],\n",
       "       [0.60746347, 0.09127633, 0.01849861, 0.31471375, 0.01592104],\n",
       "       [0.60259802, 0.03748709, 0.04338019, 0.32369852, 0.01288216],\n",
       "       ...,\n",
       "       [0.63499564, 0.04235569, 0.03895752, 0.29311286, 0.00127203],\n",
       "       [0.60234945, 0.13924726, 0.05560334, 0.34869294, 0.03338488],\n",
       "       [0.59570741, 0.15163337, 0.03454134, 0.40849589, 0.04802758]])"
      ]
     },
     "execution_count": 516,
     "metadata": {},
     "output_type": "execute_result"
    }
   ],
   "source": [
    "from sklearn.preprocessing import MinMaxScaler\n",
    "scaler = MinMaxScaler()\n",
    "X_scaled = scaler.fit_transform(X)\n",
    "X_scaled"
   ]
  },
  {
   "cell_type": "markdown",
   "metadata": {},
   "source": [
    "Creamos los sets de entrenamiento y de prueba"
   ]
  },
  {
   "cell_type": "code",
   "execution_count": 640,
   "metadata": {},
   "outputs": [],
   "source": [
    "from sklearn.model_selection import train_test_split\n",
    "X_train,X_test,y_train,y_test = train_test_split(X_scaled,y,test_size=0.3,random_state=45)"
   ]
  },
  {
   "cell_type": "markdown",
   "metadata": {},
   "source": [
    "# Usando Bayesian Ridge Regression\n",
    "\n",
    "Entrenamos el modelo y comprobamos primeros resultados"
   ]
  },
  {
   "cell_type": "code",
   "execution_count": 518,
   "metadata": {},
   "outputs": [
    {
     "data": {
      "text/html": [
       "<div>\n",
       "<style scoped>\n",
       "    .dataframe tbody tr th:only-of-type {\n",
       "        vertical-align: middle;\n",
       "    }\n",
       "\n",
       "    .dataframe tbody tr th {\n",
       "        vertical-align: top;\n",
       "    }\n",
       "\n",
       "    .dataframe thead th {\n",
       "        text-align: right;\n",
       "    }\n",
       "</style>\n",
       "<table border=\"1\" class=\"dataframe\">\n",
       "  <thead>\n",
       "    <tr style=\"text-align: right;\">\n",
       "      <th></th>\n",
       "      <th>Actual</th>\n",
       "      <th>Predicted</th>\n",
       "    </tr>\n",
       "  </thead>\n",
       "  <tbody>\n",
       "    <tr>\n",
       "      <th>0</th>\n",
       "      <td>-20</td>\n",
       "      <td>-10.691843</td>\n",
       "    </tr>\n",
       "    <tr>\n",
       "      <th>1</th>\n",
       "      <td>-5</td>\n",
       "      <td>-2.156694</td>\n",
       "    </tr>\n",
       "    <tr>\n",
       "      <th>2</th>\n",
       "      <td>-8</td>\n",
       "      <td>-1.068022</td>\n",
       "    </tr>\n",
       "    <tr>\n",
       "      <th>3</th>\n",
       "      <td>-4</td>\n",
       "      <td>-7.921621</td>\n",
       "    </tr>\n",
       "    <tr>\n",
       "      <th>4</th>\n",
       "      <td>5</td>\n",
       "      <td>-19.443969</td>\n",
       "    </tr>\n",
       "    <tr>\n",
       "      <th>...</th>\n",
       "      <td>...</td>\n",
       "      <td>...</td>\n",
       "    </tr>\n",
       "    <tr>\n",
       "      <th>8995</th>\n",
       "      <td>-34</td>\n",
       "      <td>-29.382985</td>\n",
       "    </tr>\n",
       "    <tr>\n",
       "      <th>8996</th>\n",
       "      <td>-30</td>\n",
       "      <td>-29.894146</td>\n",
       "    </tr>\n",
       "    <tr>\n",
       "      <th>8997</th>\n",
       "      <td>-16</td>\n",
       "      <td>-27.174502</td>\n",
       "    </tr>\n",
       "    <tr>\n",
       "      <th>8998</th>\n",
       "      <td>-13</td>\n",
       "      <td>-6.937555</td>\n",
       "    </tr>\n",
       "    <tr>\n",
       "      <th>8999</th>\n",
       "      <td>-26</td>\n",
       "      <td>-11.618435</td>\n",
       "    </tr>\n",
       "  </tbody>\n",
       "</table>\n",
       "<p>9000 rows × 2 columns</p>\n",
       "</div>"
      ],
      "text/plain": [
       "     Actual  Predicted\n",
       "0       -20 -10.691843\n",
       "1        -5  -2.156694\n",
       "2        -8  -1.068022\n",
       "3        -4  -7.921621\n",
       "4         5 -19.443969\n",
       "...     ...        ...\n",
       "8995    -34 -29.382985\n",
       "8996    -30 -29.894146\n",
       "8997    -16 -27.174502\n",
       "8998    -13  -6.937555\n",
       "8999    -26 -11.618435\n",
       "\n",
       "[9000 rows x 2 columns]"
      ]
     },
     "execution_count": 518,
     "metadata": {},
     "output_type": "execute_result"
    }
   ],
   "source": [
    "from sklearn.linear_model import BayesianRidge\n",
    "regressor = BayesianRidge()\n",
    "\n",
    "# fit the regressor with X and Y data\n",
    "regressor.fit(X_train, y_train)\n",
    "\n",
    "#Realizamos una predicción\n",
    "y_train_pred = regressor.predict(X_train) #Prediccion en Train\n",
    "y_test_pred = regressor.predict(X_test) #Prediccion en Test\n",
    "\n",
    "#Convertimos en df la salida\n",
    "df = pd.DataFrame({'Actual':y_test, 'Predicted': y_test_pred})\n",
    "df"
   ]
  },
  {
   "cell_type": "code",
   "execution_count": 519,
   "metadata": {},
   "outputs": [
    {
     "name": "stdout",
     "output_type": "stream",
     "text": [
      "Mean Absolute Error: 10.480562024949025\n",
      "Mean Squared Error: 264.9095591458944\n",
      "Root Mean Squared Error: 16.276042490295186\n"
     ]
    },
    {
     "data": {
      "text/plain": [
       "Text(0.5, 1.0, 'DST vs Predicted DST')"
      ]
     },
     "execution_count": 519,
     "metadata": {},
     "output_type": "execute_result"
    },
    {
     "data": {
      "image/png": "[encoded data removed]",
      "text/plain": [
       "<Figure size 432x288 with 1 Axes>"
      ]
     },
     "metadata": {},
     "output_type": "display_data"
    }
   ],
   "source": [
    "from sklearn import metrics\n",
    "print('Mean Absolute Error:', metrics.mean_absolute_error(y_test,y_test_pred))\n",
    "print('Mean Squared Error:', metrics.mean_squared_error(y_test,y_test_pred))\n",
    "print('Root Mean Squared Error:', np.sqrt(metrics.mean_squared_error(y_test,y_test_pred)))\n",
    "\n",
    "plt.axis([0,10,0,10])\n",
    "plt.scatter(y_test, y_test_pred)\n",
    "\n",
    "index_arr = [n for n in range(11)]\n",
    "plt.plot(index_arr,'r--')             \n",
    "plt.xlabel(\"DST\")\n",
    "plt.ylabel(\"Predicted DST\")\n",
    "plt.title(\"DST vs Predicted DST\")"
   ]
  },
  {
   "cell_type": "code",
   "execution_count": 520,
   "metadata": {},
   "outputs": [
    {
     "name": "stdout",
     "output_type": "stream",
     "text": [
      "R^2 Score for predictions: 0.3346662813184671\n",
      "R2 adjusted: 0.33429640489046974\n"
     ]
    }
   ],
   "source": [
    "from sklearn.metrics import r2_score\n",
    "\n",
    "score = r2_score(y_test, y_test_pred)\n",
    "\n",
    "print(\"R^2 Score for predictions:\", score)\n",
    "print(\"R2 adjusted:\", 1 - (1-score)*(len(y_test)-1)/(len(y_test)-X_test.shape[1]-1))"
   ]
  },
  {
   "cell_type": "markdown",
   "metadata": {},
   "source": [
    "Podemos observar que los resultados no son del todo buenos. Hay que continuar probando con otros modelos."
   ]
  },
  {
   "cell_type": "markdown",
   "metadata": {},
   "source": [
    "# Regresión lineal"
   ]
  },
  {
   "cell_type": "code",
   "execution_count": 562,
   "metadata": {},
   "outputs": [
    {
     "data": {
      "text/html": [
       "<div>\n",
       "<style scoped>\n",
       "    .dataframe tbody tr th:only-of-type {\n",
       "        vertical-align: middle;\n",
       "    }\n",
       "\n",
       "    .dataframe tbody tr th {\n",
       "        vertical-align: top;\n",
       "    }\n",
       "\n",
       "    .dataframe thead th {\n",
       "        text-align: right;\n",
       "    }\n",
       "</style>\n",
       "<table border=\"1\" class=\"dataframe\">\n",
       "  <thead>\n",
       "    <tr style=\"text-align: right;\">\n",
       "      <th></th>\n",
       "      <th>Actual</th>\n",
       "      <th>Predicted</th>\n",
       "    </tr>\n",
       "  </thead>\n",
       "  <tbody>\n",
       "    <tr>\n",
       "      <th>8134</th>\n",
       "      <td>-21</td>\n",
       "      <td>-16.360018</td>\n",
       "    </tr>\n",
       "    <tr>\n",
       "      <th>6691</th>\n",
       "      <td>-9</td>\n",
       "      <td>-25.888929</td>\n",
       "    </tr>\n",
       "    <tr>\n",
       "      <th>7178</th>\n",
       "      <td>1</td>\n",
       "      <td>-5.880538</td>\n",
       "    </tr>\n",
       "    <tr>\n",
       "      <th>4417</th>\n",
       "      <td>-13</td>\n",
       "      <td>-22.260610</td>\n",
       "    </tr>\n",
       "    <tr>\n",
       "      <th>3825</th>\n",
       "      <td>3</td>\n",
       "      <td>2.277771</td>\n",
       "    </tr>\n",
       "  </tbody>\n",
       "</table>\n",
       "</div>"
      ],
      "text/plain": [
       "     Actual  Predicted\n",
       "8134    -21 -16.360018\n",
       "6691     -9 -25.888929\n",
       "7178      1  -5.880538\n",
       "4417    -13 -22.260610\n",
       "3825      3   2.277771"
      ]
     },
     "execution_count": 562,
     "metadata": {},
     "output_type": "execute_result"
    }
   ],
   "source": [
    "from sklearn.linear_model import LinearRegression\n",
    "regressor = LinearRegression()\n",
    "\n",
    "# fit the regressor with X and Y data\n",
    "regressor.fit(X_train, y_train)\n",
    "\n",
    "#Realizamos una predicción\n",
    "y_train_pred = regressor.predict(X_train) #Prediccion en Train\n",
    "y_test_pred = regressor.predict(X_test) #Prediccion en Test\n",
    "\n",
    "#Convertimos en df la salida\n",
    "df = pd.DataFrame({'Actual':y_test, 'Predicted': y_test_pred})\n",
    "df.sample(5)"
   ]
  },
  {
   "cell_type": "code",
   "execution_count": 563,
   "metadata": {},
   "outputs": [
    {
     "name": "stdout",
     "output_type": "stream",
     "text": [
      "R^2 Score for predictions: 0.3347098784503023\n",
      "R2 adjusted: 0.33434002625909165\n"
     ]
    }
   ],
   "source": [
    "from sklearn.metrics import r2_score\n",
    "\n",
    "score = r2_score(y_test, y_test_pred)\n",
    "\n",
    "print(\"R^2 Score for predictions:\", score)\n",
    "print(\"R2 adjusted:\", 1 - (1-score)*(len(y_test)-1)/(len(y_test)-X_test.shape[1]-1))"
   ]
  },
  {
   "cell_type": "code",
   "execution_count": 564,
   "metadata": {},
   "outputs": [
    {
     "name": "stdout",
     "output_type": "stream",
     "text": [
      "Mean Absolute Error: 10.481059135200033\n",
      "Mean Squared Error: 264.89220049316083\n",
      "Root Mean Squared Error: 16.275509223774254\n"
     ]
    },
    {
     "data": {
      "text/plain": [
       "Text(0.5, 1.0, 'DST vs Predicted DST')"
      ]
     },
     "execution_count": 564,
     "metadata": {},
     "output_type": "execute_result"
    },
    {
     "data": {
      "image/png": "[encoded data removed]",
      "text/plain": [
       "<Figure size 432x288 with 1 Axes>"
      ]
     },
     "metadata": {},
     "output_type": "display_data"
    }
   ],
   "source": [
    "from sklearn import metrics\n",
    "print('Mean Absolute Error:', metrics.mean_absolute_error(y_test,y_test_pred))\n",
    "print('Mean Squared Error:', metrics.mean_squared_error(y_test,y_test_pred))\n",
    "print('Root Mean Squared Error:', np.sqrt(metrics.mean_squared_error(y_test,y_test_pred)))\n",
    "\n",
    "plt.axis([0,10,0,10])\n",
    "plt.scatter(y_test, y_test_pred)\n",
    "\n",
    "index_arr = [n for n in range(11)]\n",
    "plt.plot(index_arr,'r--')             \n",
    "plt.xlabel(\"DST\")\n",
    "plt.ylabel(\"Predicted DST\")\n",
    "plt.title(\"DST vs Predicted DST\")"
   ]
  },
  {
   "cell_type": "markdown",
   "metadata": {},
   "source": [
    "No se han observan resultados del todo útiles mediante este modelo."
   ]
  },
  {
   "cell_type": "markdown",
   "metadata": {},
   "source": [
    "# Adaboost"
   ]
  },
  {
   "cell_type": "code",
   "execution_count": 651,
   "metadata": {},
   "outputs": [
    {
     "name": "stdout",
     "output_type": "stream",
     "text": [
      "R2: 0.006815891048864264\n",
      "R2 adjusted: 0.006263754008086431\n",
      "Mean Absolute Error: 14.886106565410834\n",
      "Mean Absolute Percentage Error: 2010536588268567.0\n",
      "Mean Squared Error: 395.4466113251206\n",
      "Root Mean Squared Error: 19.885839467448204\n"
     ]
    }
   ],
   "source": [
    "from sklearn.ensemble import AdaBoostRegressor \n",
    "ada = AdaBoostRegressor(n_estimators=50,learning_rate=1)\n",
    "\n",
    "#Fiteamos\n",
    "ada.fit(X_train, y_train)\n",
    "#Predecimos\n",
    "y_pred = ada.predict(X_test)\n",
    "\n",
    "score = r2_score(y_test, y_pred)\n",
    "\n",
    "print(\"R2:\", score)\n",
    "print(\"R2 adjusted:\", 1 - (1-score)*(len(y_test)-1)/(len(y_test)-X_test.shape[1]-1))\n",
    "print('Mean Absolute Error:', metrics.mean_absolute_error(y_test,y_pred))\n",
    "print('Mean Absolute Percentage Error:', metrics.mean_absolute_percentage_error(y_test,y_pred))\n",
    "print('Mean Squared Error:', metrics.mean_squared_error(y_test,y_pred))\n",
    "print('Root Mean Squared Error:', np.sqrt(metrics.mean_squared_error(y_test,y_pred)))"
   ]
  },
  {
   "cell_type": "code",
   "execution_count": 642,
   "metadata": {},
   "outputs": [
    {
     "name": "stdout",
     "output_type": "stream",
     "text": [
      "Mean Absolute Error: 10.481059135200033\n",
      "Mean Squared Error: 264.89220049316083\n",
      "Root Mean Squared Error: 16.275509223774254\n"
     ]
    },
    {
     "data": {
      "text/plain": [
       "Text(0.5, 1.0, 'DST vs Predicted DST')"
      ]
     },
     "execution_count": 642,
     "metadata": {},
     "output_type": "execute_result"
    },
    {
     "data": {
      "image/png": "[encoded data removed]",
      "text/plain": [
       "<Figure size 432x288 with 1 Axes>"
      ]
     },
     "metadata": {},
     "output_type": "display_data"
    }
   ],
   "source": [
    "from sklearn import metrics\n",
    "print('Mean Absolute Error:', metrics.mean_absolute_error(y_test,y_test_pred))\n",
    "print('Mean Squared Error:', metrics.mean_squared_error(y_test,y_test_pred))\n",
    "print('Root Mean Squared Error:', np.sqrt(metrics.mean_squared_error(y_test,y_test_pred)))\n",
    "\n",
    "plt.axis([0,10,0,10])\n",
    "plt.scatter(y_test, y_test_pred)\n",
    "\n",
    "index_arr = [n for n in range(11)]\n",
    "plt.plot(index_arr,'r--')             \n",
    "plt.xlabel(\"DST\")\n",
    "plt.ylabel(\"Predicted DST\")\n",
    "plt.title(\"DST vs Predicted DST\")"
   ]
  },
  {
   "cell_type": "markdown",
   "metadata": {},
   "source": [
    "# XG Boost"
   ]
  },
  {
   "cell_type": "code",
   "execution_count": 653,
   "metadata": {},
   "outputs": [
    {
     "name": "stdout",
     "output_type": "stream",
     "text": [
      "R2: 0.39397872791409916\n",
      "R2 adjusted: 0.3936418248275493\n",
      "Mean Absolute Error: 10.112469314594442\n",
      "Mean Absolute Percentage Error: 965830948510645.8\n",
      "Mean Squared Error: 241.2936899387091\n",
      "Root Mean Squared Error: 15.533630932229242\n"
     ]
    }
   ],
   "source": [
    "import xgboost as xgb\n",
    "from sklearn.datasets import load_boston\n",
    "from sklearn.model_selection import train_test_split\n",
    "from sklearn.metrics import mean_squared_error\n",
    "#Creamos el objeteo XGBoost\n",
    "regressor = xgb.XGBRegressor(\n",
    "    n_estimators=100,\n",
    "    reg_lambda=1,\n",
    "    gamma=0,\n",
    "    max_depth=3\n",
    ")\n",
    "#Fiteamos\n",
    "regressor.fit(X_train, y_train)\n",
    "#Predecimos\n",
    "y_pred = regressor.predict(X_test)\n",
    "mean_squared_error(y_test, y_pred)\n",
    "\n",
    "score = r2_score(y_test, y_pred)\n",
    "\n",
    "print(\"R2:\", score)\n",
    "print(\"R2 adjusted:\", 1 - (1-score)*(len(y_test)-1)/(len(y_test)-X_test.shape[1]-1))\n",
    "print('Mean Absolute Error:', metrics.mean_absolute_error(y_test,y_pred))\n",
    "print('Mean Absolute Percentage Error:', metrics.mean_absolute_percentage_error(y_test,y_pred))\n",
    "print('Mean Squared Error:', metrics.mean_squared_error(y_test,y_pred))\n",
    "print('Root Mean Squared Error:', np.sqrt(metrics.mean_squared_error(y_test,y_pred)))"
   ]
  },
  {
   "cell_type": "markdown",
   "metadata": {},
   "source": [
    "Podemos ver que se obtiene un R2 de casi 0.4, que no es del todo bueno, pero como un primer acercamiento lo consideramos aceptable."
   ]
  },
  {
   "cell_type": "code",
   "execution_count": 654,
   "metadata": {},
   "outputs": [
    {
     "name": "stdout",
     "output_type": "stream",
     "text": [
      "Mean Absolute Error: 10.481059135200033\n",
      "Mean Squared Error: 264.89220049316083\n",
      "Root Mean Squared Error: 16.275509223774254\n"
     ]
    },
    {
     "data": {
      "text/plain": [
       "Text(0.5, 1.0, 'DST vs Predicted DST')"
      ]
     },
     "execution_count": 654,
     "metadata": {},
     "output_type": "execute_result"
    },
    {
     "data": {
      "image/png": "[encoded data removed]",
      "text/plain": [
       "<Figure size 432x288 with 1 Axes>"
      ]
     },
     "metadata": {},
     "output_type": "display_data"
    }
   ],
   "source": [
    "from sklearn import metrics\n",
    "print('Mean Absolute Error:', metrics.mean_absolute_error(y_test,y_test_pred))\n",
    "print('Mean Squared Error:', metrics.mean_squared_error(y_test,y_test_pred))\n",
    "print('Root Mean Squared Error:', np.sqrt(metrics.mean_squared_error(y_test,y_test_pred)))\n",
    "\n",
    "plt.axis([0,10,0,10])\n",
    "plt.scatter(y_test, y_test_pred)\n",
    "\n",
    "index_arr = [n for n in range(11)]\n",
    "plt.plot(index_arr,'r--')           \n",
    "plt.xlabel(\"DST\")\n",
    "plt.ylabel(\"Predicted DST\")\n",
    "plt.title(\"DST vs Predicted DST\")"
   ]
  },
  {
   "cell_type": "code",
   "execution_count": 655,
   "metadata": {},
   "outputs": [
    {
     "data": {
      "text/html": [
       "<div>\n",
       "<style scoped>\n",
       "    .dataframe tbody tr th:only-of-type {\n",
       "        vertical-align: middle;\n",
       "    }\n",
       "\n",
       "    .dataframe tbody tr th {\n",
       "        vertical-align: top;\n",
       "    }\n",
       "\n",
       "    .dataframe thead th {\n",
       "        text-align: right;\n",
       "    }\n",
       "</style>\n",
       "<table border=\"1\" class=\"dataframe\">\n",
       "  <thead>\n",
       "    <tr style=\"text-align: right;\">\n",
       "      <th></th>\n",
       "      <th>Actual</th>\n",
       "      <th>Predicted</th>\n",
       "    </tr>\n",
       "  </thead>\n",
       "  <tbody>\n",
       "    <tr>\n",
       "      <th>0</th>\n",
       "      <td>-20</td>\n",
       "      <td>-10.690606</td>\n",
       "    </tr>\n",
       "    <tr>\n",
       "      <th>1</th>\n",
       "      <td>-5</td>\n",
       "      <td>-2.154590</td>\n",
       "    </tr>\n",
       "    <tr>\n",
       "      <th>2</th>\n",
       "      <td>-8</td>\n",
       "      <td>-1.065321</td>\n",
       "    </tr>\n",
       "    <tr>\n",
       "      <th>3</th>\n",
       "      <td>-4</td>\n",
       "      <td>-7.919215</td>\n",
       "    </tr>\n",
       "    <tr>\n",
       "      <th>4</th>\n",
       "      <td>5</td>\n",
       "      <td>-19.456831</td>\n",
       "    </tr>\n",
       "    <tr>\n",
       "      <th>...</th>\n",
       "      <td>...</td>\n",
       "      <td>...</td>\n",
       "    </tr>\n",
       "    <tr>\n",
       "      <th>8995</th>\n",
       "      <td>-34</td>\n",
       "      <td>-29.383053</td>\n",
       "    </tr>\n",
       "    <tr>\n",
       "      <th>8996</th>\n",
       "      <td>-30</td>\n",
       "      <td>-29.903192</td>\n",
       "    </tr>\n",
       "    <tr>\n",
       "      <th>8997</th>\n",
       "      <td>-16</td>\n",
       "      <td>-27.174595</td>\n",
       "    </tr>\n",
       "    <tr>\n",
       "      <th>8998</th>\n",
       "      <td>-13</td>\n",
       "      <td>-6.938579</td>\n",
       "    </tr>\n",
       "    <tr>\n",
       "      <th>8999</th>\n",
       "      <td>-26</td>\n",
       "      <td>-11.603862</td>\n",
       "    </tr>\n",
       "  </tbody>\n",
       "</table>\n",
       "<p>9000 rows × 2 columns</p>\n",
       "</div>"
      ],
      "text/plain": [
       "     Actual  Predicted\n",
       "0       -20 -10.690606\n",
       "1        -5  -2.154590\n",
       "2        -8  -1.065321\n",
       "3        -4  -7.919215\n",
       "4         5 -19.456831\n",
       "...     ...        ...\n",
       "8995    -34 -29.383053\n",
       "8996    -30 -29.903192\n",
       "8997    -16 -27.174595\n",
       "8998    -13  -6.938579\n",
       "8999    -26 -11.603862\n",
       "\n",
       "[9000 rows x 2 columns]"
      ]
     },
     "execution_count": 655,
     "metadata": {},
     "output_type": "execute_result"
    }
   ],
   "source": [
    "#Convertimos en df la salida\n",
    "df = pd.DataFrame({'Actual':y_test, 'Predicted': y_test_pred})\n",
    "df"
   ]
  },
  {
   "cell_type": "markdown",
   "metadata": {},
   "source": [
    "### Optimización de hiperparámetros"
   ]
  },
  {
   "cell_type": "code",
   "execution_count": 645,
   "metadata": {},
   "outputs": [
    {
     "data": {
      "text/plain": [
       "\"\\n# OPTIMIZAICIÓN DE HIPERPARÁMETROS PARA XGBOOST USANDO GRIDSEARCH NO SE REALIZA POR FALTA DE TIEMPO\\n\\n\\nfrom scipy.stats import loguniform\\nfrom sklearn.model_selection import RandomizedSearchCV\\n\\n#Grilla ara el Random Search\\nhyperparameter_grid = {\\n    'n_estimators': [100, 500, 900, 1100, 1500],\\n    'max_depth': [2, 3, 5, 10, 15],\\n    'learning_rate': [0.05, 0.1, 0.15, 0.20],\\n    'min_child_weight': [1, 2, 3, 4]\\n    }\\n#Aplico la grilla al modelo\\nmodel = RandomizedSearchCV(regressor, hyperparameter_grid, n_iter=100,cv=12,scoring='r2')\\nmodel.fit(X_train, y_train)\\n\\n\""
      ]
     },
     "execution_count": 645,
     "metadata": {},
     "output_type": "execute_result"
    }
   ],
   "source": [
    "'''\n",
    "# OPTIMIZAICIÓN DE HIPERPARÁMETROS PARA XGBOOST USANDO GRIDSEARCH NO SE REALIZA POR FALTA DE TIEMPO\n",
    "\n",
    "\n",
    "from scipy.stats import loguniform\n",
    "from sklearn.model_selection import RandomizedSearchCV\n",
    "\n",
    "#Grilla ara el Random Search\n",
    "hyperparameter_grid = {\n",
    "    'n_estimators': [100, 500, 900, 1100, 1500],\n",
    "    'max_depth': [2, 3, 5, 10, 15],\n",
    "    'learning_rate': [0.05, 0.1, 0.15, 0.20],\n",
    "    'min_child_weight': [1, 2, 3, 4]\n",
    "    }\n",
    "#Aplico la grilla al modelo\n",
    "model = RandomizedSearchCV(regressor, hyperparameter_grid, n_iter=100,cv=12,scoring='r2')\n",
    "model.fit(X_train, y_train)\n",
    "\n",
    "'''"
   ]
  },
  {
   "cell_type": "code",
   "execution_count": null,
   "metadata": {},
   "outputs": [],
   "source": [
    "'''\n",
    "from sklearn.metrics import accuracy_score\n",
    "print(\"Mejores parametros: \"+str(model.best_params_))\n",
    "print(\"Mejor Score: \"+str(model.best_score_))\n",
    "'''"
   ]
  },
  {
   "cell_type": "code",
   "execution_count": null,
   "metadata": {},
   "outputs": [],
   "source": []
  }
 ],
 "metadata": {
  "kernelspec": {
   "display_name": "Python 3.10.2 64-bit",
   "language": "python",
   "name": "python3"
  },
  "language_info": {
   "codemirror_mode": {
    "name": "ipython",
    "version": 3
   },
   "file_extension": ".py",
   "mimetype": "text/x-python",
   "name": "python",
   "nbconvert_exporter": "python",
   "pygments_lexer": "ipython3",
   "version": "3.10.2"
  },
  "orig_nbformat": 4,
  "vscode": {
   "interpreter": {
    "hash": "6e3977c52f5249dbc2a33b897faad1e0916758085298811edbd14ed6ad707d81"
   }
  }
 },
 "nbformat": 4,
 "nbformat_minor": 2
}
